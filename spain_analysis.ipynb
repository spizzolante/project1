{
 "cells": [
  {
   "cell_type": "code",
   "execution_count": 44,
   "id": "673fe489",
   "metadata": {},
   "outputs": [],
   "source": [
    "import pandas as pd\n",
    "import seaborn as sns\n",
    "import matplotlib.pyplot as plt"
   ]
  },
  {
   "cell_type": "code",
   "execution_count": 2,
   "id": "93d42a7b",
   "metadata": {},
   "outputs": [],
   "source": [
    "file_path = 'data/raw/WorldCupMatches.csv'\n",
    "\n",
    "wcm_df = pd.read_csv(file_path)"
   ]
  },
  {
   "cell_type": "code",
   "execution_count": 3,
   "id": "cc940689",
   "metadata": {},
   "outputs": [],
   "source": [
    "# function to make all column names to lowercase\n",
    "def update_columns_to_lower(df):\n",
    "    df.columns = df.columns.str.lower().str.strip()\n",
    "    return df\n",
    "\n",
    "\n",
    "# function to convert all floats as integers\n",
    "def float_to_int(df):\n",
    "    for column in df.columns:\n",
    "        if df[column].dtype == 'float64':\n",
    "            df[column] = df[column].astype(int)\n",
    "    return df\n"
   ]
  },
  {
   "cell_type": "code",
   "execution_count": 4,
   "id": "5da5cb90",
   "metadata": {},
   "outputs": [],
   "source": [
    "cleaned_df = wcm_df.dropna(thresh=3)"
   ]
  },
  {
   "cell_type": "code",
   "execution_count": 5,
   "id": "bb264810",
   "metadata": {},
   "outputs": [],
   "source": [
    "attendance_mean = wcm_df['Attendance'].mean()"
   ]
  },
  {
   "cell_type": "code",
   "execution_count": 6,
   "id": "6e09ea00",
   "metadata": {},
   "outputs": [
    {
     "name": "stderr",
     "output_type": "stream",
     "text": [
      "/tmp/ipykernel_17912/1476385943.py:1: SettingWithCopyWarning: \n",
      "A value is trying to be set on a copy of a slice from a DataFrame.\n",
      "Try using .loc[row_indexer,col_indexer] = value instead\n",
      "\n",
      "See the caveats in the documentation: https://pandas.pydata.org/pandas-docs/stable/user_guide/indexing.html#returning-a-view-versus-a-copy\n",
      "  cleaned_df['Attendance'] = cleaned_df['Attendance'].fillna(attendance_mean)\n"
     ]
    }
   ],
   "source": [
    "cleaned_df['Attendance'] = cleaned_df['Attendance'].fillna(attendance_mean)"
   ]
  },
  {
   "cell_type": "code",
   "execution_count": 7,
   "id": "ae7d2125",
   "metadata": {},
   "outputs": [
    {
     "name": "stderr",
     "output_type": "stream",
     "text": [
      "/tmp/ipykernel_17912/3882775948.py:11: SettingWithCopyWarning: \n",
      "A value is trying to be set on a copy of a slice from a DataFrame.\n",
      "Try using .loc[row_indexer,col_indexer] = value instead\n",
      "\n",
      "See the caveats in the documentation: https://pandas.pydata.org/pandas-docs/stable/user_guide/indexing.html#returning-a-view-versus-a-copy\n",
      "  df[column] = df[column].astype(int)\n",
      "/tmp/ipykernel_17912/3882775948.py:11: SettingWithCopyWarning: \n",
      "A value is trying to be set on a copy of a slice from a DataFrame.\n",
      "Try using .loc[row_indexer,col_indexer] = value instead\n",
      "\n",
      "See the caveats in the documentation: https://pandas.pydata.org/pandas-docs/stable/user_guide/indexing.html#returning-a-view-versus-a-copy\n",
      "  df[column] = df[column].astype(int)\n",
      "/tmp/ipykernel_17912/3882775948.py:11: SettingWithCopyWarning: \n",
      "A value is trying to be set on a copy of a slice from a DataFrame.\n",
      "Try using .loc[row_indexer,col_indexer] = value instead\n",
      "\n",
      "See the caveats in the documentation: https://pandas.pydata.org/pandas-docs/stable/user_guide/indexing.html#returning-a-view-versus-a-copy\n",
      "  df[column] = df[column].astype(int)\n",
      "/tmp/ipykernel_17912/3882775948.py:11: SettingWithCopyWarning: \n",
      "A value is trying to be set on a copy of a slice from a DataFrame.\n",
      "Try using .loc[row_indexer,col_indexer] = value instead\n",
      "\n",
      "See the caveats in the documentation: https://pandas.pydata.org/pandas-docs/stable/user_guide/indexing.html#returning-a-view-versus-a-copy\n",
      "  df[column] = df[column].astype(int)\n",
      "/tmp/ipykernel_17912/3882775948.py:11: SettingWithCopyWarning: \n",
      "A value is trying to be set on a copy of a slice from a DataFrame.\n",
      "Try using .loc[row_indexer,col_indexer] = value instead\n",
      "\n",
      "See the caveats in the documentation: https://pandas.pydata.org/pandas-docs/stable/user_guide/indexing.html#returning-a-view-versus-a-copy\n",
      "  df[column] = df[column].astype(int)\n",
      "/tmp/ipykernel_17912/3882775948.py:11: SettingWithCopyWarning: \n",
      "A value is trying to be set on a copy of a slice from a DataFrame.\n",
      "Try using .loc[row_indexer,col_indexer] = value instead\n",
      "\n",
      "See the caveats in the documentation: https://pandas.pydata.org/pandas-docs/stable/user_guide/indexing.html#returning-a-view-versus-a-copy\n",
      "  df[column] = df[column].astype(int)\n",
      "/tmp/ipykernel_17912/3882775948.py:11: SettingWithCopyWarning: \n",
      "A value is trying to be set on a copy of a slice from a DataFrame.\n",
      "Try using .loc[row_indexer,col_indexer] = value instead\n",
      "\n",
      "See the caveats in the documentation: https://pandas.pydata.org/pandas-docs/stable/user_guide/indexing.html#returning-a-view-versus-a-copy\n",
      "  df[column] = df[column].astype(int)\n",
      "/tmp/ipykernel_17912/3882775948.py:11: SettingWithCopyWarning: \n",
      "A value is trying to be set on a copy of a slice from a DataFrame.\n",
      "Try using .loc[row_indexer,col_indexer] = value instead\n",
      "\n",
      "See the caveats in the documentation: https://pandas.pydata.org/pandas-docs/stable/user_guide/indexing.html#returning-a-view-versus-a-copy\n",
      "  df[column] = df[column].astype(int)\n"
     ]
    }
   ],
   "source": [
    "cleaned_df = float_to_int(cleaned_df)"
   ]
  },
  {
   "cell_type": "code",
   "execution_count": 8,
   "id": "312b182e",
   "metadata": {},
   "outputs": [],
   "source": [
    "cleaned_df = update_columns_to_lower(cleaned_df)"
   ]
  },
  {
   "cell_type": "code",
   "execution_count": 12,
   "id": "4bfa7af4",
   "metadata": {},
   "outputs": [],
   "source": [
    "# Filter matches involving Spain\n",
    "spain_matches = cleaned_df[(cleaned_df['home team name'] == 'Spain') | (cleaned_df['away team name'] == 'Spain')]"
   ]
  },
  {
   "cell_type": "code",
   "execution_count": 20,
   "id": "ee5b376c",
   "metadata": {},
   "outputs": [],
   "source": [
    "# For matches where Spain was the home team\n",
    "spain_home_matches = spain_matches[spain_matches['home team name'] == 'Spain']\n",
    "spain_home_goals_scored = spain_home_matches['home team goals'].sum()\n",
    "spain_home_goals_conceded = spain_home_matches['away team goals'].sum()\n",
    "\n",
    "# For matches where Spain was the away team\n",
    "spain_away_matches = spain_matches[spain_matches['away team name'] == 'Spain']\n",
    "spain_away_goals_scored = spain_away_matches['away team goals'].sum()\n",
    "spain_away_goals_conceded = spain_away_matches['home team goals'].sum()\n"
   ]
  },
  {
   "cell_type": "code",
   "execution_count": 21,
   "id": "a9fe57e3",
   "metadata": {},
   "outputs": [],
   "source": [
    "# Calculate total goals scored and conceded by Spain\n",
    "total_goals_scored = spain_home_goals_scored + spain_away_goals_scored\n",
    "total_goals_conceded = spain_home_goals_conceded + spain_away_goals_conceded\n",
    "\n",
    "# Calculate Spain's goal differential\n",
    "spain_goal_differential = total_goals_scored - total_goals_conceded"
   ]
  },
  {
   "cell_type": "code",
   "execution_count": 22,
   "id": "c1022bef",
   "metadata": {},
   "outputs": [],
   "source": [
    "# Create a DataFrame to store Spain's goal information\n",
    "spain_goals_info = pd.DataFrame({\n",
    "    'Team': ['Spain'],\n",
    "    'Total Goals Scored': [total_goals_scored],\n",
    "    'Total Goals Conceded': [total_goals_conceded],\n",
    "    'Goal Differential': [spain_goal_differential]\n",
    "})"
   ]
  },
  {
   "cell_type": "code",
   "execution_count": 23,
   "id": "7efe6744",
   "metadata": {},
   "outputs": [
    {
     "data": {
      "text/html": [
       "<div>\n",
       "<style scoped>\n",
       "    .dataframe tbody tr th:only-of-type {\n",
       "        vertical-align: middle;\n",
       "    }\n",
       "\n",
       "    .dataframe tbody tr th {\n",
       "        vertical-align: top;\n",
       "    }\n",
       "\n",
       "    .dataframe thead th {\n",
       "        text-align: right;\n",
       "    }\n",
       "</style>\n",
       "<table border=\"1\" class=\"dataframe\">\n",
       "  <thead>\n",
       "    <tr style=\"text-align: right;\">\n",
       "      <th></th>\n",
       "      <th>Team</th>\n",
       "      <th>Total Goals Scored</th>\n",
       "      <th>Total Goals Conceded</th>\n",
       "      <th>Goal Differential</th>\n",
       "    </tr>\n",
       "  </thead>\n",
       "  <tbody>\n",
       "    <tr>\n",
       "      <th>0</th>\n",
       "      <td>Spain</td>\n",
       "      <td>92</td>\n",
       "      <td>66</td>\n",
       "      <td>26</td>\n",
       "    </tr>\n",
       "  </tbody>\n",
       "</table>\n",
       "</div>"
      ],
      "text/plain": [
       "    Team  Total Goals Scored  Total Goals Conceded  Goal Differential\n",
       "0  Spain                  92                    66                 26"
      ]
     },
     "execution_count": 23,
     "metadata": {},
     "output_type": "execute_result"
    }
   ],
   "source": [
    "spain_goals_info.head()"
   ]
  },
  {
   "cell_type": "code",
   "execution_count": 35,
   "id": "d21c1041",
   "metadata": {},
   "outputs": [
    {
     "name": "stdout",
     "output_type": "stream",
     "text": [
      "Average goals scored by Spain per match: 1.5574712643678161\n",
      "Average goals conceded by Spain per match: 1.1206896551724137\n"
     ]
    }
   ],
   "source": [
    "# Filter matches involving Spain\n",
    "spain_home_matches = cleaned_df[cleaned_df['home team name'] == 'Spain']\n",
    "spain_away_matches = cleaned_df[cleaned_df['away team name'] == 'Spain']\n",
    "spain_matches = pd.concat([spain_home_matches, spain_away_matches])\n",
    "\n",
    "# Calculate Average Goals Scored and Conceded when Spain is Home\n",
    "avg_goals_scored_home = spain_home_matches['home team goals'].mean()\n",
    "avg_goals_conceded_home = spain_home_matches['away team goals'].mean()\n",
    "\n",
    "# Calculate Average Goals Scored and Conceded when Spain is Away\n",
    "avg_goals_scored_away = spain_away_matches['away team goals'].mean()\n",
    "avg_goals_conceded_away = spain_away_matches['home team goals'].mean()\n",
    "\n",
    "# Calculate Overall Average Goals Scored and Conceded\n",
    "avg_goals_scored = (avg_goals_scored_home + avg_goals_scored_away) / 2\n",
    "avg_goals_conceded = (avg_goals_conceded_home + avg_goals_conceded_away) / 2\n",
    "\n",
    "print(\"Average goals scored by Spain per match:\", avg_goals_scored)\n",
    "print(\"Average goals conceded by Spain per match:\", avg_goals_conceded)\n"
   ]
  },
  {
   "cell_type": "code",
   "execution_count": null,
   "id": "3f9a5547",
   "metadata": {},
   "outputs": [],
   "source": [
    "data = {\"Wins\"}"
   ]
  },
  {
   "cell_type": "code",
   "execution_count": 31,
   "id": "b69fad44",
   "metadata": {},
   "outputs": [
    {
     "name": "stdout",
     "output_type": "stream",
     "text": [
      "home team name\n",
      "Italy               3\n",
      "Brazil              3\n",
      "Germany             2\n",
      "Germany FR          2\n",
      "Northern Ireland    2\n",
      "Uruguay             2\n",
      "Netherlands         1\n",
      "Paraguay            1\n",
      "Chile               1\n",
      "Saudi Arabia        1\n",
      "South Africa        1\n",
      "Bolivia             1\n",
      "Denmark             1\n",
      "Belgium             1\n",
      "Korea Republic      1\n",
      "Algeria             1\n",
      "Austria             1\n",
      "Argentina           1\n",
      "Czechoslovakia      1\n",
      "Sweden              1\n",
      "Australia           1\n",
      "Name: count, dtype: int64\n"
     ]
    }
   ],
   "source": [
    "# Opponents Spain has beaten the most\n",
    "most_wins = spain_matches[spain_matches['home team name'] == 'Spain']['away team name'].value_counts()\n",
    "\n",
    "# Opponents Spain has lost to the most\n",
    "most_losses = spain_matches[spain_matches['away team name'] == 'Spain']['home team name'].value_counts()\n",
    "\n",
    "#print(most_wins)\n",
    "print(most_losses)\n"
   ]
  },
  {
   "cell_type": "code",
   "execution_count": 32,
   "id": "ae92d74c",
   "metadata": {},
   "outputs": [
    {
     "data": {
      "text/html": [
       "<div>\n",
       "<style scoped>\n",
       "    .dataframe tbody tr th:only-of-type {\n",
       "        vertical-align: middle;\n",
       "    }\n",
       "\n",
       "    .dataframe tbody tr th {\n",
       "        vertical-align: top;\n",
       "    }\n",
       "\n",
       "    .dataframe thead th {\n",
       "        text-align: right;\n",
       "    }\n",
       "</style>\n",
       "<table border=\"1\" class=\"dataframe\">\n",
       "  <thead>\n",
       "    <tr style=\"text-align: right;\">\n",
       "      <th></th>\n",
       "      <th>year</th>\n",
       "      <th>datetime</th>\n",
       "      <th>stage</th>\n",
       "      <th>stadium</th>\n",
       "      <th>city</th>\n",
       "      <th>home team name</th>\n",
       "      <th>home team goals</th>\n",
       "      <th>away team goals</th>\n",
       "      <th>away team name</th>\n",
       "      <th>win conditions</th>\n",
       "      <th>attendance</th>\n",
       "      <th>half-time home goals</th>\n",
       "      <th>half-time away goals</th>\n",
       "      <th>referee</th>\n",
       "      <th>assistant 1</th>\n",
       "      <th>assistant 2</th>\n",
       "      <th>roundid</th>\n",
       "      <th>matchid</th>\n",
       "      <th>home team initials</th>\n",
       "      <th>away team initials</th>\n",
       "    </tr>\n",
       "  </thead>\n",
       "  <tbody>\n",
       "    <tr>\n",
       "      <th>0</th>\n",
       "      <td>1930</td>\n",
       "      <td>13 Jul 1930 - 15:00</td>\n",
       "      <td>Group 1</td>\n",
       "      <td>Pocitos</td>\n",
       "      <td>Montevideo</td>\n",
       "      <td>France</td>\n",
       "      <td>4</td>\n",
       "      <td>1</td>\n",
       "      <td>Mexico</td>\n",
       "      <td></td>\n",
       "      <td>4444</td>\n",
       "      <td>3</td>\n",
       "      <td>0</td>\n",
       "      <td>LOMBARDI Domingo (URU)</td>\n",
       "      <td>CRISTOPHE Henry (BEL)</td>\n",
       "      <td>REGO Gilberto (BRA)</td>\n",
       "      <td>201</td>\n",
       "      <td>1096</td>\n",
       "      <td>FRA</td>\n",
       "      <td>MEX</td>\n",
       "    </tr>\n",
       "    <tr>\n",
       "      <th>1</th>\n",
       "      <td>1930</td>\n",
       "      <td>13 Jul 1930 - 15:00</td>\n",
       "      <td>Group 4</td>\n",
       "      <td>Parque Central</td>\n",
       "      <td>Montevideo</td>\n",
       "      <td>USA</td>\n",
       "      <td>3</td>\n",
       "      <td>0</td>\n",
       "      <td>Belgium</td>\n",
       "      <td></td>\n",
       "      <td>18346</td>\n",
       "      <td>2</td>\n",
       "      <td>0</td>\n",
       "      <td>MACIAS Jose (ARG)</td>\n",
       "      <td>MATEUCCI Francisco (URU)</td>\n",
       "      <td>WARNKEN Alberto (CHI)</td>\n",
       "      <td>201</td>\n",
       "      <td>1090</td>\n",
       "      <td>USA</td>\n",
       "      <td>BEL</td>\n",
       "    </tr>\n",
       "    <tr>\n",
       "      <th>2</th>\n",
       "      <td>1930</td>\n",
       "      <td>14 Jul 1930 - 12:45</td>\n",
       "      <td>Group 2</td>\n",
       "      <td>Parque Central</td>\n",
       "      <td>Montevideo</td>\n",
       "      <td>Yugoslavia</td>\n",
       "      <td>2</td>\n",
       "      <td>1</td>\n",
       "      <td>Brazil</td>\n",
       "      <td></td>\n",
       "      <td>24059</td>\n",
       "      <td>2</td>\n",
       "      <td>0</td>\n",
       "      <td>TEJADA Anibal (URU)</td>\n",
       "      <td>VALLARINO Ricardo (URU)</td>\n",
       "      <td>BALWAY Thomas (FRA)</td>\n",
       "      <td>201</td>\n",
       "      <td>1093</td>\n",
       "      <td>YUG</td>\n",
       "      <td>BRA</td>\n",
       "    </tr>\n",
       "    <tr>\n",
       "      <th>3</th>\n",
       "      <td>1930</td>\n",
       "      <td>14 Jul 1930 - 14:50</td>\n",
       "      <td>Group 3</td>\n",
       "      <td>Pocitos</td>\n",
       "      <td>Montevideo</td>\n",
       "      <td>Romania</td>\n",
       "      <td>3</td>\n",
       "      <td>1</td>\n",
       "      <td>Peru</td>\n",
       "      <td></td>\n",
       "      <td>2549</td>\n",
       "      <td>1</td>\n",
       "      <td>0</td>\n",
       "      <td>WARNKEN Alberto (CHI)</td>\n",
       "      <td>LANGENUS Jean (BEL)</td>\n",
       "      <td>MATEUCCI Francisco (URU)</td>\n",
       "      <td>201</td>\n",
       "      <td>1098</td>\n",
       "      <td>ROU</td>\n",
       "      <td>PER</td>\n",
       "    </tr>\n",
       "    <tr>\n",
       "      <th>4</th>\n",
       "      <td>1930</td>\n",
       "      <td>15 Jul 1930 - 16:00</td>\n",
       "      <td>Group 1</td>\n",
       "      <td>Parque Central</td>\n",
       "      <td>Montevideo</td>\n",
       "      <td>Argentina</td>\n",
       "      <td>1</td>\n",
       "      <td>0</td>\n",
       "      <td>France</td>\n",
       "      <td></td>\n",
       "      <td>23409</td>\n",
       "      <td>0</td>\n",
       "      <td>0</td>\n",
       "      <td>REGO Gilberto (BRA)</td>\n",
       "      <td>SAUCEDO Ulises (BOL)</td>\n",
       "      <td>RADULESCU Constantin (ROU)</td>\n",
       "      <td>201</td>\n",
       "      <td>1085</td>\n",
       "      <td>ARG</td>\n",
       "      <td>FRA</td>\n",
       "    </tr>\n",
       "  </tbody>\n",
       "</table>\n",
       "</div>"
      ],
      "text/plain": [
       "   year              datetime    stage         stadium         city  \\\n",
       "0  1930  13 Jul 1930 - 15:00   Group 1         Pocitos  Montevideo    \n",
       "1  1930  13 Jul 1930 - 15:00   Group 4  Parque Central  Montevideo    \n",
       "2  1930  14 Jul 1930 - 12:45   Group 2  Parque Central  Montevideo    \n",
       "3  1930  14 Jul 1930 - 14:50   Group 3         Pocitos  Montevideo    \n",
       "4  1930  15 Jul 1930 - 16:00   Group 1  Parque Central  Montevideo    \n",
       "\n",
       "  home team name  home team goals  away team goals away team name  \\\n",
       "0         France                4                1         Mexico   \n",
       "1            USA                3                0        Belgium   \n",
       "2     Yugoslavia                2                1         Brazil   \n",
       "3        Romania                3                1           Peru   \n",
       "4      Argentina                1                0         France   \n",
       "\n",
       "  win conditions  attendance  half-time home goals  half-time away goals  \\\n",
       "0                       4444                     3                     0   \n",
       "1                      18346                     2                     0   \n",
       "2                      24059                     2                     0   \n",
       "3                       2549                     1                     0   \n",
       "4                      23409                     0                     0   \n",
       "\n",
       "                  referee               assistant 1  \\\n",
       "0  LOMBARDI Domingo (URU)     CRISTOPHE Henry (BEL)   \n",
       "1       MACIAS Jose (ARG)  MATEUCCI Francisco (URU)   \n",
       "2     TEJADA Anibal (URU)   VALLARINO Ricardo (URU)   \n",
       "3   WARNKEN Alberto (CHI)       LANGENUS Jean (BEL)   \n",
       "4     REGO Gilberto (BRA)      SAUCEDO Ulises (BOL)   \n",
       "\n",
       "                  assistant 2  roundid  matchid home team initials  \\\n",
       "0         REGO Gilberto (BRA)      201     1096                FRA   \n",
       "1       WARNKEN Alberto (CHI)      201     1090                USA   \n",
       "2         BALWAY Thomas (FRA)      201     1093                YUG   \n",
       "3    MATEUCCI Francisco (URU)      201     1098                ROU   \n",
       "4  RADULESCU Constantin (ROU)      201     1085                ARG   \n",
       "\n",
       "  away team initials  \n",
       "0                MEX  \n",
       "1                BEL  \n",
       "2                BRA  \n",
       "3                PER  \n",
       "4                FRA  "
      ]
     },
     "execution_count": 32,
     "metadata": {},
     "output_type": "execute_result"
    }
   ],
   "source": [
    "cleaned_df.head()"
   ]
  },
  {
   "cell_type": "code",
   "execution_count": 34,
   "id": "e9cba368",
   "metadata": {},
   "outputs": [
    {
     "name": "stdout",
     "output_type": "stream",
     "text": [
      "Spain's win-loss record:\n",
      "Wins: 29\n",
      "Losses: 18\n"
     ]
    }
   ],
   "source": [
    "# Calculate Win-Loss Record\n",
    "spain_home_wins = len(spain_matches[(spain_matches['home team name'] == 'Spain') & (spain_matches['home team goals'] > spain_matches['away team goals'])])\n",
    "spain_away_wins = len(spain_matches[(spain_matches['away team name'] == 'Spain') & (spain_matches['away team goals'] > spain_matches['home team goals'])])\n",
    "spain_wins = spain_home_wins + spain_away_wins\n",
    "\n",
    "spain_home_losses = len(spain_matches[(spain_matches['home team name'] == 'Spain') & (spain_matches['home team goals'] < spain_matches['away team goals'])])\n",
    "spain_away_losses = len(spain_matches[(spain_matches['away team name'] == 'Spain') & (spain_matches['away team goals'] < spain_matches['home team goals'])])\n",
    "spain_losses = spain_home_losses + spain_away_losses\n",
    "\n",
    "print(\"Spain's win-loss record:\")\n",
    "print(\"Wins:\", spain_wins)\n",
    "print(\"Losses:\", spain_losses)\n"
   ]
  },
  {
   "cell_type": "code",
   "execution_count": 37,
   "id": "f657cf89",
   "metadata": {},
   "outputs": [],
   "source": [
    "sns.set(style=\"whitegrid\")"
   ]
  },
  {
   "cell_type": "code",
   "execution_count": 38,
   "id": "910fce52",
   "metadata": {},
   "outputs": [
    {
     "data": {
      "text/plain": [
       "<Axes: >"
      ]
     },
     "execution_count": 38,
     "metadata": {},
     "output_type": "execute_result"
    },
    {
     "data": {
      "image/png": "[encoded data removed]",
      "text/plain": [
       "<Figure size 640x480 with 1 Axes>"
      ]
     },
     "metadata": {},
     "output_type": "display_data"
    }
   ],
   "source": [
    "sns.barplot(x=['Average Goals Scored', 'Average Goals Conceded'], y=[avg_goals_scored, avg_goals_conceded])"
   ]
  },
  {
   "cell_type": "code",
   "execution_count": 39,
   "id": "1a11ac29",
   "metadata": {},
   "outputs": [
    {
     "data": {
      "text/plain": [
       "<Axes: >"
      ]
     },
     "execution_count": 39,
     "metadata": {},
     "output_type": "execute_result"
    },
    {
     "data": {
      "image/png": "[encoded data removed]",
      "text/plain": [
       "<Figure size 640x480 with 1 Axes>"
      ]
     },
     "metadata": {},
     "output_type": "display_data"
    }
   ],
   "source": [
    "sns.barplot(x=['Wins', 'Losses'], y=[spain_wins, spain_losses])"
   ]
  },
  {
   "cell_type": "code",
   "execution_count": 46,
   "id": "e34d9c72",
   "metadata": {},
   "outputs": [
    {
     "data": {
      "image/png": "[encoded data removed]",
      "text/plain": [
       "<Figure size 1000x600 with 1 Axes>"
      ]
     },
     "metadata": {},
     "output_type": "display_data"
    }
   ],
   "source": [
    "# Count occurrences of teams that Spain has beaten the most and lost to the most\n",
    "most_wins_counts = spain_matches[spain_matches['home team name'] == 'Spain']['away team name'].value_counts().head(5)\n",
    "most_losses_counts = spain_matches[spain_matches['away team name'] == 'Spain']['home team name'].value_counts().head(5)\n",
    "\n",
    "# Combine counts into a single DataFrame\n",
    "teams_info_df = pd.DataFrame({'Most Wins': most_wins_counts, 'Most Losses': most_losses_counts})\n",
    "\n",
    "# Fill NaN values with 0\n",
    "teams_info_df.fillna(0, inplace=True)\n",
    "\n",
    "# Plot the DataFrame\n",
    "teams_info_df.plot(kind='bar', figsize=(10, 6), title=\"Teams Spain Has Beaten/Lost to the Most\")\n",
    "plt.xlabel(\"Team\")\n",
    "plt.ylabel(\"Count\")\n",
    "plt.show()\n"
   ]
  },
  {
   "cell_type": "code",
   "execution_count": 48,
   "id": "51dbe214",
   "metadata": {},
   "outputs": [
    {
     "data": {
      "image/png": "[encoded data removed]",
      "text/plain": [
       "<Figure size 1000x1200 with 2 Axes>"
      ]
     },
     "metadata": {},
     "output_type": "display_data"
    }
   ],
   "source": [
    "# Count occurrences of teams that Spain has beaten the most and lost to the most\n",
    "most_wins_counts = spain_matches[spain_matches['home team name'] == 'Spain']['away team name'].value_counts().head(5)\n",
    "most_losses_counts = spain_matches[spain_matches['away team name'] == 'Spain']['home team name'].value_counts().head(5)\n",
    "\n",
    "# Create separate plots for most wins and most losses\n",
    "fig, axs = plt.subplots(2, figsize=(10, 12))\n",
    "\n",
    "# Plot most wins\n",
    "most_wins_counts.plot(kind='bar', ax=axs[0], color='skyblue')\n",
    "axs[0].set_title('Top 5 Teams Spain Has Beaten the Most')\n",
    "axs[0].set_xlabel('Team')\n",
    "axs[0].set_ylabel('Count')\n",
    "\n",
    "# Plot most losses\n",
    "most_losses_counts.plot(kind='bar', ax=axs[1], color='salmon')\n",
    "axs[1].set_title('Top 5 Teams Spain Has Lost to the Most')\n",
    "axs[1].set_xlabel('Team')\n",
    "axs[1].set_ylabel('Count')\n",
    "\n",
    "# Adjust layout\n",
    "plt.tight_layout()\n",
    "\n",
    "# Show plots\n",
    "plt.show()\n"
   ]
  },
  {
   "cell_type": "code",
   "execution_count": 59,
   "id": "5cbcc621",
   "metadata": {},
   "outputs": [],
   "source": [
    "folder_path = \"data/cleaned/\"\n",
    "spain_matches.to_csv(folder_path + 'spain_matches.csv')"
   ]
  },
  {
   "cell_type": "code",
   "execution_count": 61,
   "id": "e9ad59a4",
   "metadata": {},
   "outputs": [
    {
     "name": "stdout",
     "output_type": "stream",
     "text": [
      "Spain's best winning streak: 7\n",
      "Spain's worst losing streak: 15\n"
     ]
    }
   ],
   "source": [
    "# Assume spain_matches is your DataFrame containing matches involving Spain\n",
    "\n",
    "# Initialize variables to track streaks\n",
    "current_winning_streak = 0\n",
    "max_winning_streak = 0\n",
    "current_losing_streak = 0\n",
    "max_losing_streak = 0\n",
    "\n",
    "# Iterate through the DataFrame\n",
    "for index, match in spain_matches.iterrows():\n",
    "    if match['home team name'] == 'Spain' or match['away team name'] == 'Spain':\n",
    "        # Check if Spain won the match\n",
    "        if (match['home team name'] == 'Spain' and match['home team goals'] > match['away team goals']) or (match['away team name'] == 'Spain' and match['away team goals'] > match['home team goals']):\n",
    "            current_winning_streak += 1\n",
    "            # Update max winning streak if current streak is greater\n",
    "            if current_winning_streak > max_winning_streak:\n",
    "                max_winning_streak = current_winning_streak\n",
    "            # Reset losing streak\n",
    "            current_losing_streak = 0\n",
    "        # Check if Spain lost the match\n",
    "        else:\n",
    "            current_losing_streak += 1\n",
    "            # Update max losing streak if current streak is greater\n",
    "            if current_losing_streak > max_losing_streak:\n",
    "                max_losing_streak = current_losing_streak\n",
    "            # Reset winning streak\n",
    "            current_winning_streak = 0\n",
    "\n",
    "print(\"Spain's best winning streak:\", max_winning_streak)\n",
    "print(\"Spain's worst losing streak:\", max_losing_streak)\n"
   ]
  },
  {
   "cell_type": "code",
   "execution_count": 63,
   "id": "2f5aa874",
   "metadata": {},
   "outputs": [
    {
     "data": {
      "text/plain": [
       "(59, 20)"
      ]
     },
     "execution_count": 63,
     "metadata": {},
     "output_type": "execute_result"
    }
   ],
   "source": [
    "spain_matches.shape"
   ]
  }
 ],
 "metadata": {
  "kernelspec": {
   "display_name": "project1_env",
   "language": "python",
   "name": "project1_env"
  },
  "language_info": {
   "codemirror_mode": {
    "name": "ipython",
    "version": 3
   },
   "file_extension": ".py",
   "mimetype": "text/x-python",
   "name": "python",
   "nbconvert_exporter": "python",
   "pygments_lexer": "ipython3",
   "version": "3.11.5"
  }
 },
 "nbformat": 4,
 "nbformat_minor": 5
}
